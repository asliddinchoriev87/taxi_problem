{
  "nbformat": 4,
  "nbformat_minor": 0,
  "metadata": {
    "colab": {
      "provenance": [],
      "gpuType": "T4"
    },
    "kernelspec": {
      "name": "python3",
      "display_name": "Python 3"
    },
    "language_info": {
      "name": "python"
    },
    "accelerator": "GPU"
  },
  "cells": [
    {
      "cell_type": "code",
      "source": [
        "!pip install gymnasium"
      ],
      "metadata": {
        "colab": {
          "base_uri": "https://localhost:8080/"
        },
        "id": "4hZRu78P4LJ4",
        "outputId": "ed883017-9c84-483d-e94f-78aad02d25a2"
      },
      "execution_count": null,
      "outputs": [
        {
          "output_type": "stream",
          "name": "stdout",
          "text": [
            "Requirement already satisfied: gymnasium in /usr/local/lib/python3.11/dist-packages (1.1.1)\n",
            "Requirement already satisfied: numpy>=1.21.0 in /usr/local/lib/python3.11/dist-packages (from gymnasium) (2.0.2)\n",
            "Requirement already satisfied: cloudpickle>=1.2.0 in /usr/local/lib/python3.11/dist-packages (from gymnasium) (3.1.1)\n",
            "Requirement already satisfied: typing-extensions>=4.3.0 in /usr/local/lib/python3.11/dist-packages (from gymnasium) (4.14.0)\n",
            "Requirement already satisfied: farama-notifications>=0.0.1 in /usr/local/lib/python3.11/dist-packages (from gymnasium) (0.0.4)\n"
          ]
        }
      ]
    },
    {
      "cell_type": "code",
      "execution_count": null,
      "metadata": {
        "colab": {
          "base_uri": "https://localhost:8080/"
        },
        "id": "nkc5QiFd4AM0",
        "outputId": "a6d0f76c-f097-4819-d92f-cda5b9e2310d"
      },
      "outputs": [
        {
          "output_type": "stream",
          "name": "stdout",
          "text": [
            "State 0: Optimal Action = 4, V*(s) = 89.4737\n",
            "State 100: Optimal Action = 1, V*(s) = 79.5263\n",
            "State 200: Optimal Action = 1, V*(s) = 70.5737\n",
            "State 300: Optimal Action = 1, V*(s) = 62.5163\n",
            "State 400: Optimal Action = 1, V*(s) = 55.2647\n",
            "\n",
            "Converged in 85 iterations.\n"
          ]
        }
      ],
      "source": [
        "import gymnasium as gym\n",
        "import numpy as np\n",
        "\n",
        "# Initialize the Taxi environment\n",
        "env = gym.make(\"Taxi-v3\")\n",
        "n_states = env.observation_space.n\n",
        "n_actions = env.action_space.n\n",
        "# Access the unwrapped environment to get the P attribute\n",
        "P = env.unwrapped.P  # Access to transition probabilities\n",
        "\n",
        "# Value Iteration parameters\n",
        "gamma = 0.9\n",
        "theta = 1e-6  # Convergence threshold\n",
        "\n",
        "# Initialize value function\n",
        "V = np.zeros(n_states)\n",
        "\n",
        "# ----- Value Iteration -----\n",
        "iteration = 0\n",
        "while True:\n",
        "    delta = 0\n",
        "    for s in range(n_states):\n",
        "        v = V[s]\n",
        "        q_values = np.zeros(n_actions)\n",
        "        for a in range(n_actions):\n",
        "            for prob, next_state, reward, done in P[s][a]:\n",
        "                q_values[a] += prob * (reward + gamma * V[next_state])\n",
        "        V[s] = max(q_values)\n",
        "        delta = max(delta, abs(v - V[s]))\n",
        "    iteration += 1\n",
        "    if delta < theta:\n",
        "        break\n",
        "\n",
        "# ----- Extract Optimal Policy -----\n",
        "policy = np.zeros(n_states, dtype=int)\n",
        "for s in range(n_states):\n",
        "    q_values = np.zeros(n_actions)\n",
        "    for a in range(n_actions):\n",
        "        for prob, next_state, reward, done in P[s][a]:\n",
        "            q_values[a] += prob * (reward + gamma * V[next_state])\n",
        "    policy[s] = np.argmax(q_values)\n",
        "\n",
        "# ----- Display Sample Results -----\n",
        "sample_states = [0, 100, 200, 300, 400]\n",
        "for s in sample_states:\n",
        "    print(f\"State {s}: Optimal Action = {policy[s]}, V*(s) = {V[s]:.4f}\")\n",
        "\n",
        "print(f\"\\nConverged in {iteration} iterations.\")"
      ]
    }
  ]
}